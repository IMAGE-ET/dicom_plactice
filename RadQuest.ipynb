{
 "cells": [
  {
   "cell_type": "code",
   "execution_count": null,
   "metadata": {
    "collapsed": true
   },
   "outputs": [],
   "source": [
    "# DICOM Processing and Segmentation in Python (Radiology Data Quest)\n",
    "# https://www.raddq.com/dicom-processing-segmentation-visualization-in-python/\n",
    "# によるチュートリアル"
   ]
  },
  {
   "cell_type": "code",
   "execution_count": null,
   "metadata": {
    "collapsed": false
   },
   "outputs": [],
   "source": [
    "%matplotlib inline\n",
    "\n",
    "import numpy as np\n",
    "import dicom\n",
    "import os\n",
    "import matplotlib.pyplot as plt\n",
    "from glob import glob"
   ]
  },
  {
   "cell_type": "code",
   "execution_count": null,
   "metadata": {
    "collapsed": true
   },
   "outputs": [],
   "source": [
    "from mpl_toolkits.mplot3d.art3d import Poly3DCollection"
   ]
  },
  {
   "cell_type": "code",
   "execution_count": null,
   "metadata": {
    "collapsed": true
   },
   "outputs": [],
   "source": [
    "import scipy.ndimage\n",
    "from skimage import morphology\n",
    "from skimage import measure\n",
    "from skimage.transform import resize\n",
    "from sklearn.cluster import KMeans"
   ]
  },
  {
   "cell_type": "code",
   "execution_count": null,
   "metadata": {
    "collapsed": true
   },
   "outputs": [],
   "source": [
    "from plotly import __version__\n",
    "from plotly.offline import download_plotlyjs, init_notebook_mode, plot, iplot"
   ]
  },
  {
   "cell_type": "code",
   "execution_count": null,
   "metadata": {
    "collapsed": true
   },
   "outputs": [],
   "source": [
    "from plotly.tools import FigureFactory as FF\n",
    "from plotly.graph_objs import *"
   ]
  },
  {
   "cell_type": "code",
   "execution_count": null,
   "metadata": {
    "collapsed": false
   },
   "outputs": [],
   "source": [
    "init_notebook_mode(connected=True) "
   ]
  },
  {
   "cell_type": "code",
   "execution_count": null,
   "metadata": {
    "collapsed": true
   },
   "outputs": [],
   "source": [
    "data_path = \"./ct/\"\n",
    "output_path = working_path = \"./20180417/\"\n",
    "g = glob(data_path + \"/*.dcm\")"
   ]
  },
  {
   "cell_type": "code",
   "execution_count": null,
   "metadata": {
    "collapsed": false
   },
   "outputs": [],
   "source": [
    "#globできてるかチェック\n",
    "print(\"Total of %d DICOM images.\\nFirst 5 filnames are:\"% len(g))\n",
    "print('\\n'.join(g[:5]))"
   ]
  },
  {
   "cell_type": "code",
   "execution_count": null,
   "metadata": {
    "collapsed": true
   },
   "outputs": [],
   "source": [
    "# Loop over the image files and store everything into a list.\n",
    "\n",
    "def load_scan(path):\n",
    "    slices = [dicom.read_file(path + '/' + s) for s in os.listdir(path)]\n",
    "    slices.sort(key = lambda x: int(x.InstanceNumber))\n",
    "    try:\n",
    "        slice_thickness = np.abs(slices[0].ImagePositionPatient[2] - slices[1].ImagePositionPatient[2])\n",
    "    except:\n",
    "        slice_thickness = np.abs(slices[0].SliceLocation - slices[1].SliceLocation)\n",
    "    \n",
    "    for s in slices:\n",
    "        s.SliceThickness = slice_thickness\n",
    "    \n",
    "    return slices"
   ]
  },
  {
   "cell_type": "code",
   "execution_count": null,
   "metadata": {
    "collapsed": true
   },
   "outputs": [],
   "source": [
    "def get_pixels_hu(scans):\n",
    "    image = np.stack([s.pixel_array for s in scans])\n",
    "    # Convert to int16\n",
    "    # should be possible as values should always be low enough(<32k)\n",
    "    image = image.astype(np.int16)\n",
    "    \n",
    "    # Set outside-of-scan pixels to 0\n",
    "    # The intercept is usually -1024, so air is approximately 0\n",
    "    image[image == -2000] = 0\n",
    "    # ここ何やってんのかわかんない……\n",
    "    \n",
    "    # Convert to Hounsfield units(HU)\n",
    "    intercept = scans[0].RescaleIntercept\n",
    "    slope = scans[0].RescaleSlope\n",
    "    \n",
    "    if slope != 1:\n",
    "        image = slope * image.astype(np.float64)\n",
    "        image = image.astype(np.int16)\n",
    "    \n",
    "    image = image + np.int16(intercept)\n",
    "    \n",
    "    return np.array(image, dtype = np.int16)"
   ]
  },
  {
   "cell_type": "code",
   "execution_count": null,
   "metadata": {
    "collapsed": false
   },
   "outputs": [],
   "source": [
    "id = 0\n",
    "patient = load_scan(data_path)"
   ]
  },
  {
   "cell_type": "code",
   "execution_count": null,
   "metadata": {
    "collapsed": true
   },
   "outputs": [],
   "source": [
    "imgs = get_pixels_hu(patient)"
   ]
  },
  {
   "cell_type": "code",
   "execution_count": null,
   "metadata": {
    "collapsed": false
   },
   "outputs": [],
   "source": [
    "np.save(output_path + \"fullimages_%d.npy\"%(id), imgs)"
   ]
  },
  {
   "cell_type": "code",
   "execution_count": null,
   "metadata": {
    "collapsed": true
   },
   "outputs": [],
   "source": [
    "file_used = output_path + \"fullimages_%d.npy\"% id\n",
    "imgs_to_process = np.load(file_used).astype(np.float64)"
   ]
  },
  {
   "cell_type": "code",
   "execution_count": null,
   "metadata": {
    "collapsed": false
   },
   "outputs": [],
   "source": [
    "plt.hist(imgs_to_process.flatten(), bins = 50, color = 'c')\n",
    "plt.xlabel(\"Hounsfield Units(HU)\")\n",
    "plt.ylabel(\"Frequency\")\n",
    "plt.show()"
   ]
  },
  {
   "cell_type": "code",
   "execution_count": null,
   "metadata": {
    "collapsed": true
   },
   "outputs": [],
   "source": [
    "id = 0\n",
    "imgs_to_process = np.load(output_path + 'fullimages_{}.npy'.format(id))"
   ]
  },
  {
   "cell_type": "code",
   "execution_count": null,
   "metadata": {
    "collapsed": false
   },
   "outputs": [],
   "source": [
    "def sample_stack(stack, rows = 6, cols = 6, start_with = 10, show_every = 3):\n",
    "    fig,ax = plt.subplots(rows, cols, figsize = [12, 12])\n",
    "    for i in range(rows * cols):\n",
    "        ind = start_with + i * show_every\n",
    "        ax[int(i/rows), int(i % rows)].set_title('slice %d'%ind)\n",
    "        ax[int(i/rows), int(i % rows)].imshow(stack[ind], cmap = 'gray')\n",
    "        ax[int(i/rows), int(i % rows)].axis('off')\n",
    "    plt.show()"
   ]
  },
  {
   "cell_type": "code",
   "execution_count": null,
   "metadata": {
    "collapsed": false
   },
   "outputs": [],
   "source": [
    "sample_stack(imgs_to_process)\n",
    "#現状ではCT領域の外側がHU = -2000になっており、この部分が真っ黒。Airの部分は-1000であり、\n",
    "#グレーに表示されてしまっている"
   ]
  },
  {
   "cell_type": "code",
   "execution_count": null,
   "metadata": {
    "collapsed": false
   },
   "outputs": [],
   "source": [
    "print(\"Slice Thickness: %f\"% patient[0].SliceThickness)\n",
    "print(\"Pixel Spacing(row, col): (%f, %f)\"% (patient[0].PixelSpacing[0], patient[0].PixelSpacing[1]))"
   ]
  },
  {
   "cell_type": "code",
   "execution_count": null,
   "metadata": {
    "collapsed": true
   },
   "outputs": [],
   "source": [
    "id = 0\n",
    "imgs_to_process = np.load(output_path + 'fullimages_{}.npy'.format(id))"
   ]
  },
  {
   "cell_type": "code",
   "execution_count": null,
   "metadata": {
    "collapsed": true
   },
   "outputs": [],
   "source": [
    "def resample(image, scan, new_spacing = [1, 1, 1]):\n",
    "    # Determine current pixel spacing\n",
    "    spacing = map(float, ([scan[0].SliceThickness] + scan[0].PixelSpacing))\n",
    "    spacing = np.array(list(spacing))\n",
    "    \n",
    "    resize_factor = spacing / new_spacing\n",
    "    new_real_shape = image.shape * resize_factor\n",
    "    new_shape = np.round(new_real_shape)\n",
    "    real_resize_factor = new_shape / image.shape\n",
    "    new_spacing = spacing / real_resize_factor\n",
    "    \n",
    "    image = scipy.ndimage.interpolation.zoom(image, real_resize_factor)\n",
    "    \n",
    "    return image, new_spacing"
   ]
  },
  {
   "cell_type": "code",
   "execution_count": null,
   "metadata": {
    "collapsed": false
   },
   "outputs": [],
   "source": [
    "print(\"Shape before resampling\\t\", imgs_to_process.shape)\n",
    "imgs_after_resamp, spacing = resample(imgs_to_process, patient, [1, 1, 1])\n",
    "print(\"Shape after resampling\\t\", imgs_after_resamp.shape)"
   ]
  },
  {
   "cell_type": "code",
   "execution_count": null,
   "metadata": {
    "collapsed": true
   },
   "outputs": [],
   "source": [
    "# 3d plotting\n",
    "def make_mesh(image, threshold = 300, step_size = 1):\n",
    "    \n",
    "    print(\"Transposing surface\")\n",
    "    p = image.transpose(2, 1, 0)\n",
    "    \n",
    "    print(\"Calculating surface\")\n",
    "    verts, faces, norm, val = measure.marching_cubes(p, threshold, step_size = step_size, allow_degenerate = True)\n",
    "    return verts, faces"
   ]
  },
  {
   "cell_type": "code",
   "execution_count": null,
   "metadata": {
    "collapsed": false
   },
   "outputs": [],
   "source": [
    "def plotly_3d(verts, faces):\n",
    "    x, y, z = zip(*verts)\n",
    "    \n",
    "    print(\"Drawing...\")\n",
    "    \n",
    "    colormap = ['rgb(236, 236, 212)', 'rgb(236, 236, 212)']\n",
    "    \n",
    "    fig = FF.create_trisurf(x = x,\n",
    "                           y = y,\n",
    "                           z = z,\n",
    "                           plot_edges = False,\n",
    "                           colormap = colormap, \n",
    "                           simplices = faces,\n",
    "                           backgroundcolor = 'rgb(64, 64, 64)',\n",
    "                           title = \"Interactive Visualization\")\n",
    "    iplot(fig)"
   ]
  },
  {
   "cell_type": "code",
   "execution_count": null,
   "metadata": {
    "collapsed": true
   },
   "outputs": [],
   "source": [
    "def plt_3d(verts, faces):\n",
    "    print(\"Drawing...\")\n",
    "    x, y, z = zip(*verts)\n",
    "    fig = plt.figure(figsize = (10, 10))\n",
    "    ax = fig.add_subplot(111, projection = '3d')\n",
    "    \n",
    "    mesh = Poly3DCollection(verts[faces], linewidths = 0.05, alpha = 1)\n",
    "    face_color = [1, 1, 0.9]\n",
    "    mesh.set_facecolor(face_color)\n",
    "    ax.add_collection3d(mesh)\n",
    "    \n",
    "    ax.set_xlim(0, max(x))\n",
    "    ax.set_ylim(0, max(y))\n",
    "    ax.set_zlim(0, max(z))\n",
    "    ax.set_axis_bgcolor((0.7, 0.7, 0.7))\n",
    "    plt.show()"
   ]
  },
  {
   "cell_type": "code",
   "execution_count": null,
   "metadata": {
    "collapsed": false
   },
   "outputs": [],
   "source": [
    "v, f = make_mesh(imgs_after_resamp, 350)"
   ]
  },
  {
   "cell_type": "code",
   "execution_count": null,
   "metadata": {
    "collapsed": false,
    "scrolled": false
   },
   "outputs": [],
   "source": [
    "plt_3d(v, f)"
   ]
  },
  {
   "cell_type": "code",
   "execution_count": null,
   "metadata": {
    "collapsed": true
   },
   "outputs": [],
   "source": [
    "v, f = make_mesh(imgs_after_resamp, 350, 2)"
   ]
  },
  {
   "cell_type": "code",
   "execution_count": null,
   "metadata": {
    "collapsed": true
   },
   "outputs": [],
   "source": []
  }
 ],
 "metadata": {
  "anaconda-cloud": {},
  "kernelspec": {
   "display_name": "Python [default]",
   "language": "python",
   "name": "python3"
  },
  "language_info": {
   "codemirror_mode": {
    "name": "ipython",
    "version": 3
   },
   "file_extension": ".py",
   "mimetype": "text/x-python",
   "name": "python",
   "nbconvert_exporter": "python",
   "pygments_lexer": "ipython3",
   "version": "3.5.2"
  }
 },
 "nbformat": 4,
 "nbformat_minor": 2
}
