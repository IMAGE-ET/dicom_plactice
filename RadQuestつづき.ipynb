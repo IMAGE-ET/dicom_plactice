{
 "cells": [
  {
   "cell_type": "markdown",
   "metadata": {},
   "source": [
    "DICOM Processing and Segmentation in Python (Radiology Data Quest)\n",
    "https://www.raddq.com/dicom-processing-segmentation-visualization-in-python/\n",
    "によるチュートリアル"
   ]
  },
  {
   "cell_type": "code",
   "execution_count": null,
   "metadata": {
    "collapsed": false
   },
   "outputs": [],
   "source": [
    "%matplotlib inline\n",
    "\n",
    "import numpy as np\n",
    "import dicom\n",
    "import os\n",
    "import matplotlib.pyplot as plt\n",
    "from glob import glob\n",
    "from mpl_toolkits.mplot3d.art3d import Poly3DCollection\n",
    "import scipy.ndimage\n",
    "from skimage import morphology\n",
    "from skimage import measure\n",
    "from skimage.transform import resize\n",
    "from sklearn.cluster import KMeans\n",
    "from plotly import __version__\n",
    "from plotly.offline import download_plotlyjs, init_notebook_mode, plot, iplot\n",
    "from plotly.tools import FigureFactory as FF\n",
    "from plotly.graph_objs import *\n",
    "init_notebook_mode(connected=True)"
   ]
  },
  {
   "cell_type": "code",
   "execution_count": null,
   "metadata": {
    "collapsed": true
   },
   "outputs": [],
   "source": [
    "data_path = \"./ct/\"\n",
    "output_path = working_path = \"./20180417/\""
   ]
  },
  {
   "cell_type": "code",
   "execution_count": null,
   "metadata": {
    "collapsed": true
   },
   "outputs": [],
   "source": [
    "def load_scan(path):\n",
    "    slices = [dicom.read_file(path + '/' + s) for s in os.listdir(path)]\n",
    "    slices.sort(key = lambda x: int(x.InstanceNumber))\n",
    "    try:\n",
    "        slice_thickness = np.abs(slices[0].ImagePositionPatient[2] - slices[1].ImagePositionPatient[2])\n",
    "    except:\n",
    "        slice_thickness = np.abs(slices[0].SliceLocation - slices[1].SliceLocation)\n",
    "    \n",
    "    for s in slices:\n",
    "        s.SliceThickness = slice_thickness\n",
    "    \n",
    "    return slices"
   ]
  },
  {
   "cell_type": "code",
   "execution_count": null,
   "metadata": {
    "collapsed": false
   },
   "outputs": [],
   "source": [
    "id = 0\n",
    "patient = load_scan(data_path)\n",
    "imgs_to_process = np.load(output_path + 'fullimages_{}.npy'.format(id))"
   ]
  },
  {
   "cell_type": "code",
   "execution_count": null,
   "metadata": {
    "collapsed": true
   },
   "outputs": [],
   "source": [
    "def resample(image, scan, new_spacing = [1, 1, 1]):\n",
    "    # Determine current pixel spacing\n",
    "    spacing = map(float, ([scan[0].SliceThickness] + scan[0].PixelSpacing))\n",
    "    spacing = np.array(list(spacing))\n",
    "    \n",
    "    resize_factor = spacing / new_spacing\n",
    "    new_real_shape = image.shape * resize_factor\n",
    "    new_shape = np.round(new_real_shape)\n",
    "    real_resize_factor = new_shape / image.shape\n",
    "    new_spacing = spacing / real_resize_factor\n",
    "    \n",
    "    image = scipy.ndimage.interpolation.zoom(image, real_resize_factor)\n",
    "    \n",
    "    return image, new_spacing"
   ]
  },
  {
   "cell_type": "code",
   "execution_count": null,
   "metadata": {
    "collapsed": false
   },
   "outputs": [],
   "source": [
    "print(\"Shape before resampling\\t\", imgs_to_process.shape)\n",
    "imgs_after_resamp, spacing = resample(imgs_to_process, patient, [1, 1, 1])\n",
    "print(\"Shape after resampling\\t\", imgs_after_resamp.shape)"
   ]
  },
  {
   "cell_type": "code",
   "execution_count": null,
   "metadata": {
    "collapsed": false
   },
   "outputs": [],
   "source": [
    "# ここから今日書いたコード\n",
    "\n",
    "# Standardize the pixel values\n",
    "def make_lungmask(img, display = False):\n",
    "    row_size = img.shape[0]\n",
    "    col_size = img.shape[1]\n",
    "    \n",
    "    mean = np.mean(img)\n",
    "    std = np.std(img)\n",
    "    img = img - mean\n",
    "    img = img / std\n",
    "    # Find the average pixel value near the lungs\n",
    "    # to renormalize washed out images\n",
    "    middle = img[int(col_size / 5):int(col_size/5*4), int(row_size/5):int(row_size/5*4)]\n",
    "    mean = np.mean(middle)\n",
    "    max = np.max(img)\n",
    "    min = np.min(img)\n",
    "    # To improve threshold finding, I'm moving the underflow and overflow on the pixel spectrum.\n",
    "    img[img == max] = mean\n",
    "    img[img == min] = mean\n",
    "    \n",
    "    # Using Kmeans to separate foreground(soft tissue/bone) and background (lung/air)\n",
    "    \n",
    "    kmeans = KMeans(n_clusters = 2).fit(np.reshape(middle, [np.prod(middle.shape), 1]))\n",
    "    centers = sorted(kmeans.cluster_centers_.flatten())\n",
    "    threshold = np.mean(centers)\n",
    "    thresh_img = np.where(img < threshold, 1.0, 0.0)\n",
    "    \n",
    "    # First erode away the finer elements, then dilate to include some of the pixels surrounding the lung.\n",
    "    # まちがって肺を切り取っちゃいたくはないよね\n",
    "    \n",
    "    eroded = morphology.erosion(thresh_img, np.ones([3,3]))\n",
    "    dilation = morphology.dilation(eroded, np.ones([8,8]))\n",
    "    \n",
    "    labels = measure.label(dilation) # Different labels are displayed in different colors\n",
    "    label_vals = np.unique(labels)\n",
    "    regions = measure.regionprops(labels)\n",
    "    good_labels = []\n",
    "    \n",
    "    for prop in regions:\n",
    "        B = prop.bbox\n",
    "        if B[2] - B[0] < row_size/10*9 and B[3]-B[1]<col_size/10*9 and B[0]>row_size/5 and B[2]<col_size/5*4:\n",
    "            good_labels.append(prop.label)\n",
    "    mask = np.ndarray([row_size, col_size], dtype = np.int8)\n",
    "    mask[:] = 0\n",
    "    \n",
    "    # 肺だけが残ったら別のlarge dilationを行って肺のマスクを埋める\n",
    "    \n",
    "    for N in good_labels:\n",
    "        mask = mask + np.where(labels == N, 1, 0)\n",
    "    mask = morphology.dilation(mask, np.ones([10, 10]))\n",
    "    #最後にちょっと膨張させる\n",
    "    \n",
    "    if (display):\n",
    "        fig, ax = plt.subplots(3, 2, figsize = [12, 12])\n",
    "        ax[0, 0].set_title(\"Original\")\n",
    "        ax[0, 0].imshow(img, cmap = 'gray')\n",
    "        ax[0, 0].axis('off')\n",
    "        ax[0, 1].set_title(\"Threshold\")\n",
    "        ax[0, 1].imshow(thresh_img, cmap = 'gray')\n",
    "        ax[0, 1].axis('off')\n",
    "        ax[1, 0].set_title(\"After Erosion and Dilation\")\n",
    "        ax[1, 0].imshow(dilation, cmap = 'gray')\n",
    "        ax[1, 0].axis('off')\n",
    "        ax[1, 1].set_title(\"Color Labels\")\n",
    "        ax[1, 1].imshow(labels)\n",
    "        ax[1, 1].axis('off')\n",
    "        ax[2, 0].set_title(\"Final mask\")\n",
    "        ax[2, 0].imshow(mask, cmap='gray')\n",
    "        ax[2, 0].axis('off')\n",
    "        ax[2, 1].set_title(\"Apply Mask on Original\")\n",
    "        ax[2, 1].imshow(mask*img, cmap ='gray')\n",
    "        ax[2, 1].axis('off')\n",
    "        \n",
    "        plt.show()\n",
    "    return mask*img       "
   ]
  },
  {
   "cell_type": "code",
   "execution_count": null,
   "metadata": {
    "collapsed": false
   },
   "outputs": [],
   "source": [
    "img = imgs_after_resamp[100]\n",
    "make_lungmask(img, display = True)"
   ]
  },
  {
   "cell_type": "code",
   "execution_count": null,
   "metadata": {
    "collapsed": true
   },
   "outputs": [],
   "source": [
    "#こぴぺ\n",
    "\n",
    "def sample_stack(stack, rows=6, cols=6, start_with=10, show_every=3):\n",
    "    fig,ax = plt.subplots(rows,cols,figsize=[12,12])\n",
    "    for i in range(rows*cols):\n",
    "        ind = start_with + i*show_every\n",
    "        ax[int(i/rows),int(i % rows)].set_title('slice %d' % ind)\n",
    "        ax[int(i/rows),int(i % rows)].imshow(stack[ind],cmap='gray')\n",
    "        ax[int(i/rows),int(i % rows)].axis('off')\n",
    "    plt.show()"
   ]
  },
  {
   "cell_type": "code",
   "execution_count": null,
   "metadata": {
    "collapsed": false
   },
   "outputs": [],
   "source": [
    "masked_lung = []\n",
    "\n",
    "for img in imgs_after_resamp:\n",
    "    masked_lung.append(make_lungmask(img))\n",
    "\n",
    "sample_stack(masked_lung, show_every = 10)"
   ]
  },
  {
   "cell_type": "code",
   "execution_count": null,
   "metadata": {
    "collapsed": false
   },
   "outputs": [],
   "source": [
    "np.save(output_path + \"maskedimages_%d.npy\"%(id), imgs_after_resamp)"
   ]
  },
  {
   "cell_type": "code",
   "execution_count": null,
   "metadata": {
    "collapsed": true
   },
   "outputs": [],
   "source": []
  }
 ],
 "metadata": {
  "kernelspec": {
   "display_name": "Python [default]",
   "language": "python",
   "name": "python3"
  },
  "language_info": {
   "codemirror_mode": {
    "name": "ipython",
    "version": 3
   },
   "file_extension": ".py",
   "mimetype": "text/x-python",
   "name": "python",
   "nbconvert_exporter": "python",
   "pygments_lexer": "ipython3",
   "version": "3.5.2"
  }
 },
 "nbformat": 4,
 "nbformat_minor": 2
}
